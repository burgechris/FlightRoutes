{
 "cells": [
  {
   "cell_type": "markdown",
   "metadata": {},
   "source": [
    "## San Franscisco to Portland Flight Path Optimization\n",
    "\n",
    "This project used the data from the [OpenFlight](https://openflights.org/data.html) airport and routes dataset and aimed to find all paths between SFO and PDX. Sorted by distance."
   ]
  },
  {
   "cell_type": "code",
   "execution_count": 1,
   "metadata": {
    "scrolled": true
   },
   "outputs": [],
   "source": [
    "import pandas as pd\n",
    "import math\n",
    "import networkx as nx\n",
    "from networkx import drawing\n",
    "from networkx import graph\n",
    "import heapq"
   ]
  },
  {
   "cell_type": "markdown",
   "metadata": {},
   "source": [
    "Importing packages needed for the project.\n",
    "    - Math is imported to handle calculations\n",
    "    - Networkx is imported to handle the graph\n",
    "    - Heapq is imported to handle the priority queue \n",
    "    - Pandas is imported to read the text data"
   ]
  },
  {
   "cell_type": "code",
   "execution_count": 2,
   "metadata": {},
   "outputs": [],
   "source": [
    "ap_col = ['Airport ID', 'Name', 'City', 'Country', 'IATA', 'ICAO', 'Lat',\n",
    "          'Log', 'Alt', 'Timezone', 'DST', 'TZ Database', 'Type', 'Source']\n",
    "airports = pd.read_csv('./data/airports.dat.txt', header=None, names=ap_col)\n",
    "\n",
    "\n",
    "rt_col = ['Airline', 'Airline ID', 'Source Airport', 'Src Airport ID',\n",
    "          'Dest Airport', 'Dest Airport ID', 'Codeshare', 'Stops', 'Equipment']\n",
    "routes = pd.read_csv('./data/routes.dat.txt', header=None, names=rt_col)"
   ]
  },
  {
   "cell_type": "markdown",
   "metadata": {},
   "source": [
    "First we created a variable (ap_col and rt_col) to store an array of column names. Then we used the pandas packaged to read and store the text files into variables (airports and routes)."
   ]
  },
  {
   "cell_type": "markdown",
   "metadata": {},
   "source": [
    "### Data Exploration"
   ]
  },
  {
   "cell_type": "code",
   "execution_count": 3,
   "metadata": {},
   "outputs": [
    {
     "name": "stdout",
     "output_type": "stream",
     "text": [
      "<class 'pandas.core.frame.DataFrame'>\n",
      "RangeIndex: 7698 entries, 0 to 7697\n",
      "Data columns (total 14 columns):\n",
      "Airport ID     7698 non-null int64\n",
      "Name           7698 non-null object\n",
      "City           7649 non-null object\n",
      "Country        7698 non-null object\n",
      "IATA           7698 non-null object\n",
      "ICAO           7698 non-null object\n",
      "Lat            7698 non-null float64\n",
      "Log            7698 non-null float64\n",
      "Alt            7698 non-null int64\n",
      "Timezone       7698 non-null object\n",
      "DST            7698 non-null object\n",
      "TZ Database    7698 non-null object\n",
      "Type           7698 non-null object\n",
      "Source         7698 non-null object\n",
      "dtypes: float64(2), int64(2), object(10)\n",
      "memory usage: 842.1+ KB\n",
      "<class 'pandas.core.frame.DataFrame'>\n",
      "RangeIndex: 67663 entries, 0 to 67662\n",
      "Data columns (total 9 columns):\n",
      "Airline            67663 non-null object\n",
      "Airline ID         67663 non-null object\n",
      "Source Airport     67663 non-null object\n",
      "Src Airport ID     67663 non-null object\n",
      "Dest Airport       67663 non-null object\n",
      "Dest Airport ID    67663 non-null object\n",
      "Codeshare          14597 non-null object\n",
      "Stops              67663 non-null int64\n",
      "Equipment          67645 non-null object\n",
      "dtypes: int64(1), object(8)\n",
      "memory usage: 4.6+ MB\n"
     ]
    }
   ],
   "source": [
    "airports.info()\n",
    "routes.info()"
   ]
  },
  {
   "cell_type": "markdown",
   "metadata": {},
   "source": [
    "The first step is to explore the data.  We used the info function to see what colums we had and what data types we were working with."
   ]
  },
  {
   "cell_type": "code",
   "execution_count": 4,
   "metadata": {
    "scrolled": true
   },
   "outputs": [
    {
     "data": {
      "text/plain": [
       "Airport ID      0\n",
       "Name            0\n",
       "City           49\n",
       "Country         0\n",
       "IATA            0\n",
       "ICAO            0\n",
       "Lat             0\n",
       "Log             0\n",
       "Alt             0\n",
       "Timezone        0\n",
       "DST             0\n",
       "TZ Database     0\n",
       "Type            0\n",
       "Source          0\n",
       "dtype: int64"
      ]
     },
     "execution_count": 4,
     "metadata": {},
     "output_type": "execute_result"
    }
   ],
   "source": [
    "airports.isnull().sum()"
   ]
  },
  {
   "cell_type": "code",
   "execution_count": 5,
   "metadata": {},
   "outputs": [
    {
     "data": {
      "text/plain": [
       "Airline                0\n",
       "Airline ID             0\n",
       "Source Airport         0\n",
       "Src Airport ID         0\n",
       "Dest Airport           0\n",
       "Dest Airport ID        0\n",
       "Codeshare          53066\n",
       "Stops                  0\n",
       "Equipment             18\n",
       "dtype: int64"
      ]
     },
     "execution_count": 5,
     "metadata": {},
     "output_type": "execute_result"
    }
   ],
   "source": [
    "routes.isnull().sum()"
   ]
  },
  {
   "cell_type": "markdown",
   "metadata": {},
   "source": [
    "We checked to see which columns in the airports dataframe had a value of null and summed that value."
   ]
  },
  {
   "cell_type": "code",
   "execution_count": 6,
   "metadata": {},
   "outputs": [
    {
     "name": "stdout",
     "output_type": "stream",
     "text": [
      "0\n"
     ]
    }
   ],
   "source": [
    "route_array = routes['Source Airport']\n",
    "lengths_4 = len([len(x) for x in route_array if len(x) == 4])\n",
    "print(lengths_4)"
   ]
  },
  {
   "cell_type": "code",
   "execution_count": 7,
   "metadata": {},
   "outputs": [
    {
     "name": "stdout",
     "output_type": "stream",
     "text": [
      "0\n"
     ]
    }
   ],
   "source": [
    "dest_array = routes['Dest Airport']\n",
    "ap_lengths_4 = len([len(x) for x in dest_array if len(x) == 4])\n",
    "print(ap_lengths_4)"
   ]
  },
  {
   "cell_type": "markdown",
   "metadata": {},
   "source": [
    "We then checked to see how many of the airport ids were 4 digits, because the documentation said that the id could be either have 3 or 4 digits. We discovered that the IATA codes were only 3 digits, so we didn't need to take the other codes into consideration."
   ]
  },
  {
   "cell_type": "code",
   "execution_count": 8,
   "metadata": {},
   "outputs": [
    {
     "name": "stdout",
     "output_type": "stream",
     "text": [
      "      Airline Airline ID Source Airport Src Airport ID Dest Airport  \\\n",
      "6385       AA         24            PDX           3720          SFO   \n",
      "11843      AS        439            PDX           3720          SFO   \n",
      "57438      UA       5209            PDX           3720          SFO   \n",
      "62023      VX       5331            PDX           3720          SFO   \n",
      "\n",
      "      Dest Airport ID Codeshare  Stops    Equipment  \n",
      "6385             3469         Y      0      DH4 737  \n",
      "11843            3469       NaN      0      734 73G  \n",
      "57438            3469       NaN      0  319 739 320  \n",
      "62023            3469       NaN      0          320  \n"
     ]
    }
   ],
   "source": [
    "dest_airport = routes['Dest Airport'] == 'SFO'\n",
    "src_airport = routes['Source Airport'] == 'PDX'\n",
    "condition = dest_airport & src_airport\n",
    "newDF = routes[condition]\n",
    "print(newDF)"
   ]
  },
  {
   "cell_type": "markdown",
   "metadata": {},
   "source": [
    "We ran a search on all nonstop flights between SFO and PDX to determine which airlines we wanted to filter for to limit computation resources."
   ]
  },
  {
   "cell_type": "markdown",
   "metadata": {},
   "source": [
    "### Solution"
   ]
  },
  {
   "cell_type": "code",
   "execution_count": 9,
   "metadata": {},
   "outputs": [],
   "source": [
    "def toRadians(degrees):\n",
    "    return (degrees * math.pi)/180.0"
   ]
  },
  {
   "cell_type": "markdown",
   "metadata": {},
   "source": [
    "This function converts degrees to radians."
   ]
  },
  {
   "cell_type": "code",
   "execution_count": 10,
   "metadata": {},
   "outputs": [],
   "source": [
    "def distance(lat1, lon1, lat2, lon2):\n",
    "    # R radius of Earth\n",
    "    R = 6371e3  # metres\n",
    "    #phi is latitude\n",
    "    lat1_rad = toRadians(lat1)\n",
    "    lat2_rad = toRadians(lat2)\n",
    "    # difference lat\n",
    "    delta_lat = toRadians((lat2-lat1))\n",
    "    # difference lon\n",
    "    delta_lon = toRadians((lon2-lon1))\n",
    "\n",
    "    a = math.sin(delta_lat/2) * math.sin(delta_lat/2) + math.cos(lat1_rad) * \\\n",
    "        math.cos(lat2_rad) * math.sin(delta_lon/2) * math.sin(delta_lon/2)\n",
    "    c = 2 * math.atan2(math.sqrt(a), math.sqrt(1-a))\n",
    "\n",
    "    d = R * c\n",
    "    return math.trunc(d/1000)"
   ]
  },
  {
   "cell_type": "markdown",
   "metadata": {},
   "source": [
    "This function calculates the distance between two coordinates based on the curvature of the Earth. Returns distance in kilometers with decimels truncated. "
   ]
  },
  {
   "cell_type": "code",
   "execution_count": 11,
   "metadata": {},
   "outputs": [],
   "source": [
    "def flightplanner(source, destination):\n",
    "    G = nx.Graph()\n",
    "    newDF = routes[(routes.Airline == 'AS') | (routes.Airline == 'AA')]\n",
    "    for index, airport in airports.iterrows():\n",
    "        G.add_node(airport['IATA'])\n",
    "    for i, route in newDF.iterrows():\n",
    "        route_dest = route[\"Dest Airport\"]\n",
    "        route_src = route[\"Source Airport\"]\n",
    "        if (route_dest in airports['IATA'].array) and (route_src in airports['IATA'].array):\n",
    "            src_lat = airports[airports.IATA == route_src].iloc[0]['Lat']\n",
    "            src_log = airports[airports.IATA == route_src].iloc[0]['Log']\n",
    "\n",
    "            dest_lat = airports[airports.IATA == route_dest].iloc[0]['Lat']\n",
    "            dest_log = airports[airports.IATA == route_dest].iloc[0]['Log']\n",
    "\n",
    "            route_dist = distance(src_lat, src_log, dest_lat, dest_log)\n",
    "\n",
    "            G.add_edge(route_src, route_dest, weight=route_dist)\n",
    "\n",
    "    return G"
   ]
  },
  {
   "cell_type": "markdown",
   "metadata": {},
   "source": [
    "This function takes the source and destination airports by their three digit codes and creates a graph object with all airports as nodes. The routes are pre-filtered to include only Alaska Airlines and American Airlines to limit computation time. All pre-filtered routes are then added to the graph as edges, weighted by the distance between the two airports. It returns the populated graph object (G)."
   ]
  },
  {
   "cell_type": "code",
   "execution_count": 12,
   "metadata": {},
   "outputs": [],
   "source": [
    "def path_distance(G, array_of_stops):\n",
    "    distance = 0\n",
    "    for index in range(0, len(array_of_stops)-1):\n",
    "        distance = distance + G.edges[array_of_stops[index], array_of_stops[index + 1]]['weight']\n",
    "\n",
    "    return distance"
   ]
  },
  {
   "cell_type": "markdown",
   "metadata": {},
   "source": [
    "This function takes in the populated graph object and an array of stops and returns the total distance along the path."
   ]
  },
  {
   "cell_type": "code",
   "execution_count": 13,
   "metadata": {},
   "outputs": [],
   "source": [
    "def weighted(G, paths):\n",
    "    h = []\n",
    "    for path in paths:\n",
    "        distance = path_distance(G, path)\n",
    "        t = (distance, path)\n",
    "        heapq.heappush(h, t)\n",
    "\n",
    "    return [heapq.heappop(h) for index in range(len(h))]"
   ]
  },
  {
   "cell_type": "markdown",
   "metadata": {},
   "source": [
    "This function takes in the populated graph object and paths and returns a priority queue of tuples that includes the distance and stop array. It is then sorted from shortest to longest distance. Distance is what determines the tuple's priority. It returns the sorted array by utilizing heappop."
   ]
  },
  {
   "cell_type": "code",
   "execution_count": 14,
   "metadata": {},
   "outputs": [],
   "source": [
    "G = flightplanner('SFO', 'PDX')\n",
    "\n",
    "coolflight = nx.all_simple_paths(G, source='SFO', target='PDX', cutoff=3)\n",
    "\n",
    "paths = list(coolflight)"
   ]
  },
  {
   "cell_type": "markdown",
   "metadata": {},
   "source": [
    "The flightplanner function output takes in the source and destination arguments and stores the returns the graph object which is stored in variable G. \n",
    "The all_simple_paths function takes in G, source and target nodes, with a cutoff of 3 stops and returns the array of paths, which is stored in variable coolflight. Coolflight is then converted to a list and stored in the paths variable."
   ]
  },
  {
   "cell_type": "code",
   "execution_count": 16,
   "metadata": {},
   "outputs": [
    {
     "name": "stdout",
     "output_type": "stream",
     "text": [
      "    Distance                 Stops\n",
      "0        886            [SFO, PDX]\n",
      "1       1301       [SFO, SEA, PDX]\n",
      "2       1599  [SFO, SEA, BLI, PDX]\n",
      "3       1638  [SFO, SEA, EUG, PDX]\n",
      "4       1646  [SFO, SEA, RDM, PDX]\n",
      "5       1647  [SFO, SEA, PSC, PDX]\n",
      "6       1700  [SFO, SEA, YVR, PDX]\n",
      "7       1886       [SFO, LAX, PDX]\n",
      "8       1887  [SFO, LAX, FAT, PDX]\n",
      "9       1887  [SFO, LAX, RNO, PDX]\n",
      "10      1898  [SFO, SEA, GEG, PDX]\n",
      "11      1900  [SFO, LAX, RDM, PDX]\n",
      "12      1913  [SFO, LAX, SMF, PDX]\n",
      "13      1916  [SFO, LAX, MFR, PDX]\n",
      "14      1917  [SFO, LAX, EUG, PDX]\n",
      "15      1954  [SFO, LAX, SJC, PDX]\n",
      "16      1973  [SFO, LAX, STS, PDX]\n",
      "17      2017  [SFO, SEA, MFR, PDX]\n",
      "18      2082       [SFO, PSP, PDX]\n",
      "19      2149  [SFO, LAX, LAS, PDX]\n"
     ]
    }
   ],
   "source": [
    "distance_route_sorted = weighted(G, paths)\n",
    "\n",
    "df = pd.DataFrame(distance_route_sorted, columns=['Distance', 'Stops'])\n",
    "\n",
    "print(df.head(20))"
   ]
  },
  {
   "cell_type": "markdown",
   "metadata": {},
   "source": [
    "The weighted function is then called to organize the paths calculated, which is then stored in the variable, distance_route_sorted.\n",
    "The data is then converted into a dataframe for readability, capped at the top 10 shortest paths. Enjoy!"
   ]
  }
 ],
 "metadata": {
  "kernelspec": {
   "display_name": "Python 3",
   "language": "python",
   "name": "python3"
  },
  "language_info": {
   "codemirror_mode": {
    "name": "ipython",
    "version": 3
   },
   "file_extension": ".py",
   "mimetype": "text/x-python",
   "name": "python",
   "nbconvert_exporter": "python",
   "pygments_lexer": "ipython3",
   "version": "3.8.1"
  }
 },
 "nbformat": 4,
 "nbformat_minor": 4
}
