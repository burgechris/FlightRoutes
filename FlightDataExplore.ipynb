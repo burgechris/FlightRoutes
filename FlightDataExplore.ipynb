{
 "cells": [
  {
   "cell_type": "code",
   "execution_count": 26,
   "metadata": {},
   "outputs": [
    {
     "name": "stdout",
     "output_type": "stream",
     "text": [
      "      Airport ID                                         Name          City  \\\n",
      "0              1                               Goroka Airport        Goroka   \n",
      "1              2                               Madang Airport        Madang   \n",
      "2              3                 Mount Hagen Kagamuga Airport   Mount Hagen   \n",
      "3              4                               Nadzab Airport        Nadzab   \n",
      "4              5  Port Moresby Jacksons International Airport  Port Moresby   \n",
      "...          ...                                          ...           ...   \n",
      "7693       14106                          Rogachyovo Air Base        Belaya   \n",
      "7694       14107                        Ulan-Ude East Airport      Ulan Ude   \n",
      "7695       14108                         Krechevitsy Air Base      Novgorod   \n",
      "7696       14109                  Desierto de Atacama Airport       Copiapo   \n",
      "7697       14110                           Melitopol Air Base     Melitopol   \n",
      "\n",
      "               Country IATA  ICAO        Lat         Log   Alt Timezone DST  \\\n",
      "0     Papua New Guinea  GKA  AYGA  -6.081690  145.391998  5282       10   U   \n",
      "1     Papua New Guinea  MAG  AYMD  -5.207080  145.789001    20       10   U   \n",
      "2     Papua New Guinea  HGU  AYMH  -5.826790  144.296005  5388       10   U   \n",
      "3     Papua New Guinea  LAE  AYNZ  -6.569803  146.725977   239       10   U   \n",
      "4     Papua New Guinea  POM  AYPY  -9.443380  147.220001   146       10   U   \n",
      "...                ...  ...   ...        ...         ...   ...      ...  ..   \n",
      "7693            Russia   \\N  ULDA  71.616699   52.478298   272       \\N  \\N   \n",
      "7694            Russia   \\N  XIUW  51.849998  107.737999  1670       \\N  \\N   \n",
      "7695            Russia   \\N  ULLK  58.625000   31.385000    85       \\N  \\N   \n",
      "7696             Chile  CPO  SCAT -27.261200  -70.779198   670       \\N  \\N   \n",
      "7697           Ukraine   \\N  UKDM  46.880001   35.305000     0       \\N  \\N   \n",
      "\n",
      "               TZ Database     Type       Source  \n",
      "0     Pacific/Port_Moresby  airport  OurAirports  \n",
      "1     Pacific/Port_Moresby  airport  OurAirports  \n",
      "2     Pacific/Port_Moresby  airport  OurAirports  \n",
      "3     Pacific/Port_Moresby  airport  OurAirports  \n",
      "4     Pacific/Port_Moresby  airport  OurAirports  \n",
      "...                    ...      ...          ...  \n",
      "7693                    \\N  airport  OurAirports  \n",
      "7694                    \\N  airport  OurAirports  \n",
      "7695                    \\N  airport  OurAirports  \n",
      "7696                    \\N  airport  OurAirports  \n",
      "7697                    \\N  airport  OurAirports  \n",
      "\n",
      "[7698 rows x 14 columns]\n",
      "      Airline Airline ID Source Airport Src Airport ID Dest Airport  \\\n",
      "0          2B        410            AER           2965          KZN   \n",
      "1          2B        410            ASF           2966          KZN   \n",
      "2          2B        410            ASF           2966          MRV   \n",
      "3          2B        410            CEK           2968          KZN   \n",
      "4          2B        410            CEK           2968          OVB   \n",
      "...       ...        ...            ...            ...          ...   \n",
      "67658      ZL       4178            WYA           6334          ADL   \n",
      "67659      ZM      19016            DME           4029          FRU   \n",
      "67660      ZM      19016            FRU           2912          DME   \n",
      "67661      ZM      19016            FRU           2912          OSS   \n",
      "67662      ZM      19016            OSS           2913          FRU   \n",
      "\n",
      "      Dest Airport ID Codeshare  Stops Equipment  \n",
      "0                2990       NaN      0       CR2  \n",
      "1                2990       NaN      0       CR2  \n",
      "2                2962       NaN      0       CR2  \n",
      "3                2990       NaN      0       CR2  \n",
      "4                4078       NaN      0       CR2  \n",
      "...               ...       ...    ...       ...  \n",
      "67658            3341       NaN      0       SF3  \n",
      "67659            2912       NaN      0       734  \n",
      "67660            4029       NaN      0       734  \n",
      "67661            2913       NaN      0       734  \n",
      "67662            2912       NaN      0       734  \n",
      "\n",
      "[67663 rows x 9 columns]\n"
     ]
    }
   ],
   "source": [
    "import pandas as pd\n",
    "\n",
    "ap_col = ['Airport ID', 'Name', 'City', 'Country', 'IATA', 'ICAO', 'Lat', 'Log', 'Alt', 'Timezone', 'DST', 'TZ Database', 'Type', 'Source']\n",
    "airports = pd.read_csv('./data/airports.dat.txt', header=None, names=ap_col, index_col = 0)\n",
    "print(airports)\n",
    "\n",
    "rt_col = ['Airline', 'Airline ID', 'Source Airport', 'Src Airport ID', 'Dest Airport', 'Dest Airport ID', 'Codeshare', 'Stops', 'Equipment']\n",
    "routes = pd.read_csv('./data/routes.dat.txt', header=None, names=rt_col, index_col = 0)\n",
    "print(routes)"
   ]
  },
  {
   "cell_type": "code",
   "execution_count": 3,
   "metadata": {},
   "outputs": [
    {
     "data": {
      "text/plain": [
       "array([nan, 'Y'], dtype=object)"
      ]
     },
     "execution_count": 3,
     "metadata": {},
     "output_type": "execute_result"
    }
   ],
   "source": [
    "routes.Codeshare.unique()"
   ]
  },
  {
   "cell_type": "code",
   "execution_count": 15,
   "metadata": {},
   "outputs": [
    {
     "data": {
      "text/plain": [
       "3321"
      ]
     },
     "execution_count": 15,
     "metadata": {},
     "output_type": "execute_result"
    }
   ],
   "source": [
    "len(routes['Src Airport ID'].unique())\n"
   ]
  },
  {
   "cell_type": "code",
   "execution_count": 16,
   "metadata": {},
   "outputs": [
    {
     "data": {
      "text/plain": [
       "3409"
      ]
     },
     "execution_count": 16,
     "metadata": {},
     "output_type": "execute_result"
    }
   ],
   "source": [
    "len(routes['Source Airport'].unique())"
   ]
  },
  {
   "cell_type": "code",
   "execution_count": 19,
   "metadata": {},
   "outputs": [
    {
     "name": "stdout",
     "output_type": "stream",
     "text": [
      "0\n"
     ]
    }
   ],
   "source": [
    "route_array = routes['Source Airport']\n",
    "lengths_4 = len([len(x) for x in route_array if len(x) == 4])\n",
    "print(lengths_4)"
   ]
  },
  {
   "cell_type": "markdown",
   "metadata": {},
   "source": [
    "No source airport codes with 4 digits"
   ]
  },
  {
   "cell_type": "code",
   "execution_count": 20,
   "metadata": {},
   "outputs": [
    {
     "name": "stdout",
     "output_type": "stream",
     "text": [
      "55739\n"
     ]
    }
   ],
   "source": [
    "dest_array = routes['Dest Airport ID']\n",
    "ap_lengths_4 = len([len(x) for x in dest_array if len(x) == 4])\n",
    "print(ap_lengths_4)"
   ]
  },
  {
   "cell_type": "code",
   "execution_count": 21,
   "metadata": {},
   "outputs": [
    {
     "name": "stdout",
     "output_type": "stream",
     "text": [
      "11001\n"
     ]
    }
   ],
   "source": [
    "dest_array = routes['Dest Airport ID']\n",
    "ap_lengths_3 = len([len(x) for x in dest_array if len(x) == 3])\n",
    "print(ap_lengths_3)"
   ]
  },
  {
   "cell_type": "markdown",
   "metadata": {},
   "source": [
    "Destination airport codes has a mix of 3 and 4 digit codes."
   ]
  },
  {
   "cell_type": "code",
   "execution_count": 23,
   "metadata": {},
   "outputs": [
    {
     "name": "stdout",
     "output_type": "stream",
     "text": [
      "<class 'pandas.core.frame.DataFrame'>\n",
      "RangeIndex: 67663 entries, 0 to 67662\n",
      "Data columns (total 9 columns):\n",
      "Airline            67663 non-null object\n",
      "Airline ID         67663 non-null object\n",
      "Source Airport     67663 non-null object\n",
      "Src Airport ID     67663 non-null object\n",
      "Dest Airport       67663 non-null object\n",
      "Dest Airport ID    67663 non-null object\n",
      "Codeshare          14597 non-null object\n",
      "Stops              67663 non-null int64\n",
      "Equipment          67645 non-null object\n",
      "dtypes: int64(1), object(8)\n",
      "memory usage: 4.6+ MB\n"
     ]
    }
   ],
   "source": [
    "routes.info()"
   ]
  },
  {
   "cell_type": "code",
   "execution_count": 24,
   "metadata": {},
   "outputs": [
    {
     "data": {
      "text/html": [
       "<div>\n",
       "<style scoped>\n",
       "    .dataframe tbody tr th:only-of-type {\n",
       "        vertical-align: middle;\n",
       "    }\n",
       "\n",
       "    .dataframe tbody tr th {\n",
       "        vertical-align: top;\n",
       "    }\n",
       "\n",
       "    .dataframe thead th {\n",
       "        text-align: right;\n",
       "    }\n",
       "</style>\n",
       "<table border=\"1\" class=\"dataframe\">\n",
       "  <thead>\n",
       "    <tr style=\"text-align: right;\">\n",
       "      <th></th>\n",
       "      <th>Stops</th>\n",
       "    </tr>\n",
       "  </thead>\n",
       "  <tbody>\n",
       "    <tr>\n",
       "      <th>count</th>\n",
       "      <td>67663.000000</td>\n",
       "    </tr>\n",
       "    <tr>\n",
       "      <th>mean</th>\n",
       "      <td>0.000163</td>\n",
       "    </tr>\n",
       "    <tr>\n",
       "      <th>std</th>\n",
       "      <td>0.012749</td>\n",
       "    </tr>\n",
       "    <tr>\n",
       "      <th>min</th>\n",
       "      <td>0.000000</td>\n",
       "    </tr>\n",
       "    <tr>\n",
       "      <th>25%</th>\n",
       "      <td>0.000000</td>\n",
       "    </tr>\n",
       "    <tr>\n",
       "      <th>50%</th>\n",
       "      <td>0.000000</td>\n",
       "    </tr>\n",
       "    <tr>\n",
       "      <th>75%</th>\n",
       "      <td>0.000000</td>\n",
       "    </tr>\n",
       "    <tr>\n",
       "      <th>max</th>\n",
       "      <td>1.000000</td>\n",
       "    </tr>\n",
       "  </tbody>\n",
       "</table>\n",
       "</div>"
      ],
      "text/plain": [
       "              Stops\n",
       "count  67663.000000\n",
       "mean       0.000163\n",
       "std        0.012749\n",
       "min        0.000000\n",
       "25%        0.000000\n",
       "50%        0.000000\n",
       "75%        0.000000\n",
       "max        1.000000"
      ]
     },
     "execution_count": 24,
     "metadata": {},
     "output_type": "execute_result"
    }
   ],
   "source": [
    "routes.describe()"
   ]
  },
  {
   "cell_type": "code",
   "execution_count": 25,
   "metadata": {},
   "outputs": [
    {
     "data": {
      "text/plain": [
       "(67663, 9)"
      ]
     },
     "execution_count": 25,
     "metadata": {},
     "output_type": "execute_result"
    }
   ],
   "source": [
    "routes.shape"
   ]
  },
  {
   "cell_type": "code",
   "execution_count": 38,
   "metadata": {},
   "outputs": [
    {
     "name": "stdout",
     "output_type": "stream",
     "text": [
      "      Airport ID                            Name      City        Country  \\\n",
      "3520        3720  Portland International Airport  Portland  United States   \n",
      "\n",
      "     IATA  ICAO        Lat      Log  Alt Timezone DST          TZ Database  \\\n",
      "3520  PDX  KPDX  45.588699 -122.598   31       -8   A  America/Los_Angeles   \n",
      "\n",
      "         Type       Source  \n",
      "3520  airport  OurAirports  \n"
     ]
    }
   ],
   "source": [
    "    # Only searching 3 digit airport codes\n",
    "    srcAirportDF = airports['IATA'] == 'PDX'\n",
    "    print(airports[srcAirportDF])"
   ]
  },
  {
   "cell_type": "code",
   "execution_count": 40,
   "metadata": {},
   "outputs": [
    {
     "name": "stdout",
     "output_type": "stream",
     "text": [
      "<class 'pandas.core.series.Series'>\n"
     ]
    }
   ],
   "source": [
    "    # Only searching 3 digit airport codes\n",
    "    srcAirportDF = airports['IATA'] == 'PDX'\n",
    "    print(type(srcAirportDF))"
   ]
  },
  {
   "cell_type": "code",
   "execution_count": 41,
   "metadata": {},
   "outputs": [
    {
     "name": "stdout",
     "output_type": "stream",
     "text": [
      "<class 'pandas.core.frame.DataFrame'>\n"
     ]
    }
   ],
   "source": [
    "print(type(airports))"
   ]
  },
  {
   "cell_type": "markdown",
   "metadata": {},
   "source": [
    "First sort by the IATA column, which returns an nd_array of bools (srcAirportDF). Feed this array back into the airport df to return the True row."
   ]
  },
  {
   "cell_type": "code",
   "execution_count": 49,
   "metadata": {},
   "outputs": [
    {
     "name": "stdout",
     "output_type": "stream",
     "text": [
      "      ICAO\n",
      "3520  KPDX\n"
     ]
    }
   ],
   "source": [
    "#Searching for 4 digit code\n",
    "srcAirportDF = airports['IATA'] == 'PDX'\n",
    "Pdx_Info = airports[srcAirportDF]\n",
    "ICAO_Code = Pdx_Info[['ICAO']]\n",
    "print(ICAO_Code)"
   ]
  },
  {
   "cell_type": "code",
   "execution_count": null,
   "metadata": {},
   "outputs": [],
   "source": []
  }
 ],
 "metadata": {
  "kernelspec": {
   "display_name": "Python 3",
   "language": "python",
   "name": "python3"
  },
  "language_info": {
   "codemirror_mode": {
    "name": "ipython",
    "version": 3
   },
   "file_extension": ".py",
   "mimetype": "text/x-python",
   "name": "python",
   "nbconvert_exporter": "python",
   "pygments_lexer": "ipython3",
   "version": "3.8.1"
  }
 },
 "nbformat": 4,
 "nbformat_minor": 4
}
