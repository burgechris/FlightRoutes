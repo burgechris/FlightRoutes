{
 "cells": [
  {
   "cell_type": "code",
   "execution_count": 2,
   "metadata": {},
   "outputs": [
    {
     "name": "stdout",
     "output_type": "stream",
     "text": [
      "Requirement already satisfied: pandas in /Library/Frameworks/Python.framework/Versions/3.8/lib/python3.8/site-packages (0.25.3)\n",
      "Requirement already satisfied: pytz>=2017.2 in /Library/Frameworks/Python.framework/Versions/3.8/lib/python3.8/site-packages (from pandas) (2019.3)\n",
      "Requirement already satisfied: numpy>=1.13.3 in /Library/Frameworks/Python.framework/Versions/3.8/lib/python3.8/site-packages (from pandas) (1.18.1)\n",
      "Requirement already satisfied: python-dateutil>=2.6.1 in /Library/Frameworks/Python.framework/Versions/3.8/lib/python3.8/site-packages (from pandas) (2.8.1)\n",
      "Requirement already satisfied: six>=1.5 in /Library/Frameworks/Python.framework/Versions/3.8/lib/python3.8/site-packages (from python-dateutil>=2.6.1->pandas) (1.14.0)\n",
      "\u001b[33mWARNING: You are using pip version 19.2.3, however version 20.0.2 is available.\n",
      "You should consider upgrading via the 'pip install --upgrade pip' command.\u001b[0m\n",
      "                                                   Name          City  \\\n",
      "Airport ID                                                              \n",
      "1                                        Goroka Airport        Goroka   \n",
      "2                                        Madang Airport        Madang   \n",
      "3                          Mount Hagen Kagamuga Airport   Mount Hagen   \n",
      "4                                        Nadzab Airport        Nadzab   \n",
      "5           Port Moresby Jacksons International Airport  Port Moresby   \n",
      "...                                                 ...           ...   \n",
      "14106                               Rogachyovo Air Base        Belaya   \n",
      "14107                             Ulan-Ude East Airport      Ulan Ude   \n",
      "14108                              Krechevitsy Air Base      Novgorod   \n",
      "14109                       Desierto de Atacama Airport       Copiapo   \n",
      "14110                                Melitopol Air Base     Melitopol   \n",
      "\n",
      "                     Country IATA  ICAO        Lat         Log   Alt Timezone  \\\n",
      "Airport ID                                                                      \n",
      "1           Papua New Guinea  GKA  AYGA  -6.081690  145.391998  5282       10   \n",
      "2           Papua New Guinea  MAG  AYMD  -5.207080  145.789001    20       10   \n",
      "3           Papua New Guinea  HGU  AYMH  -5.826790  144.296005  5388       10   \n",
      "4           Papua New Guinea  LAE  AYNZ  -6.569803  146.725977   239       10   \n",
      "5           Papua New Guinea  POM  AYPY  -9.443380  147.220001   146       10   \n",
      "...                      ...  ...   ...        ...         ...   ...      ...   \n",
      "14106                 Russia   \\N  ULDA  71.616699   52.478298   272       \\N   \n",
      "14107                 Russia   \\N  XIUW  51.849998  107.737999  1670       \\N   \n",
      "14108                 Russia   \\N  ULLK  58.625000   31.385000    85       \\N   \n",
      "14109                  Chile  CPO  SCAT -27.261200  -70.779198   670       \\N   \n",
      "14110                Ukraine   \\N  UKDM  46.880001   35.305000     0       \\N   \n",
      "\n",
      "           DST           TZ Database     Type       Source  \n",
      "Airport ID                                                  \n",
      "1            U  Pacific/Port_Moresby  airport  OurAirports  \n",
      "2            U  Pacific/Port_Moresby  airport  OurAirports  \n",
      "3            U  Pacific/Port_Moresby  airport  OurAirports  \n",
      "4            U  Pacific/Port_Moresby  airport  OurAirports  \n",
      "5            U  Pacific/Port_Moresby  airport  OurAirports  \n",
      "...         ..                   ...      ...          ...  \n",
      "14106       \\N                    \\N  airport  OurAirports  \n",
      "14107       \\N                    \\N  airport  OurAirports  \n",
      "14108       \\N                    \\N  airport  OurAirports  \n",
      "14109       \\N                    \\N  airport  OurAirports  \n",
      "14110       \\N                    \\N  airport  OurAirports  \n",
      "\n",
      "[7698 rows x 13 columns]\n",
      "        Airline ID Source Airport Src Airport ID Dest Airport Dest Airport ID  \\\n",
      "Airline                                                                         \n",
      "2B             410            AER           2965          KZN            2990   \n",
      "2B             410            ASF           2966          KZN            2990   \n",
      "2B             410            ASF           2966          MRV            2962   \n",
      "2B             410            CEK           2968          KZN            2990   \n",
      "2B             410            CEK           2968          OVB            4078   \n",
      "...            ...            ...            ...          ...             ...   \n",
      "ZL            4178            WYA           6334          ADL            3341   \n",
      "ZM           19016            DME           4029          FRU            2912   \n",
      "ZM           19016            FRU           2912          DME            4029   \n",
      "ZM           19016            FRU           2912          OSS            2913   \n",
      "ZM           19016            OSS           2913          FRU            2912   \n",
      "\n",
      "        Codeshare  Stops Equipment  \n",
      "Airline                             \n",
      "2B            NaN      0       CR2  \n",
      "2B            NaN      0       CR2  \n",
      "2B            NaN      0       CR2  \n",
      "2B            NaN      0       CR2  \n",
      "2B            NaN      0       CR2  \n",
      "...           ...    ...       ...  \n",
      "ZL            NaN      0       SF3  \n",
      "ZM            NaN      0       734  \n",
      "ZM            NaN      0       734  \n",
      "ZM            NaN      0       734  \n",
      "ZM            NaN      0       734  \n",
      "\n",
      "[67663 rows x 8 columns]\n"
     ]
    }
   ],
   "source": [
    "!pip3 install pandas\n",
    "import pandas as pd\n",
    "\n",
    "ap_col = ['Airport ID', 'Name', 'City', 'Country', 'IATA', 'ICAO', 'Lat', 'Log', 'Alt', 'Timezone', 'DST', 'TZ Database', 'Type', 'Source']\n",
    "airports = pd.read_csv('./data/airports.dat.txt', header=None, names=ap_col, index_col = 0)\n",
    "print(airports)\n",
    "\n",
    "rt_col = ['Airline', 'Airline ID', 'Source Airport', 'Src Airport ID', 'Dest Airport', 'Dest Airport ID', 'Codeshare', 'Stops', 'Equipment']\n",
    "routes = pd.read_csv('./data/routes.dat.txt', header=None, names=rt_col, index_col = 0)\n",
    "print(routes)"
   ]
  },
  {
   "cell_type": "code",
   "execution_count": 3,
   "metadata": {},
   "outputs": [
    {
     "data": {
      "text/plain": [
       "array([nan, 'Y'], dtype=object)"
      ]
     },
     "execution_count": 3,
     "metadata": {},
     "output_type": "execute_result"
    }
   ],
   "source": [
    "routes.Codeshare.unique()"
   ]
  },
  {
   "cell_type": "code",
   "execution_count": 6,
   "metadata": {},
   "outputs": [
    {
     "ename": "NameError",
     "evalue": "name 'routes' is not defined",
     "output_type": "error",
     "traceback": [
      "\u001b[0;31m---------------------------------------------------------------------------\u001b[0m",
      "\u001b[0;31mNameError\u001b[0m                                 Traceback (most recent call last)",
      "\u001b[0;32m<ipython-input-6-7c8629094ba9>\u001b[0m in \u001b[0;36m<module>\u001b[0;34m\u001b[0m\n\u001b[0;32m----> 1\u001b[0;31m \u001b[0mlen\u001b[0m\u001b[0;34m(\u001b[0m\u001b[0mroutes\u001b[0m\u001b[0;34m[\u001b[0m\u001b[0;34m'Src Airport ID'\u001b[0m\u001b[0;34m]\u001b[0m\u001b[0;34m.\u001b[0m\u001b[0munique\u001b[0m\u001b[0;34m(\u001b[0m\u001b[0;34m)\u001b[0m\u001b[0;34m)\u001b[0m\u001b[0;34m\u001b[0m\u001b[0;34m\u001b[0m\u001b[0m\n\u001b[0m",
      "\u001b[0;31mNameError\u001b[0m: name 'routes' is not defined"
     ]
    }
   ],
   "source": [
    "len(routes['Src Airport ID'].unique())\n"
   ]
  },
  {
   "cell_type": "code",
   "execution_count": 14,
   "metadata": {},
   "outputs": [
    {
     "data": {
      "text/plain": [
       "Name            0\n",
       "City           49\n",
       "Country         0\n",
       "IATA            0\n",
       "ICAO            0\n",
       "Lat             0\n",
       "Log             0\n",
       "Alt             0\n",
       "Timezone        0\n",
       "DST             0\n",
       "TZ Database     0\n",
       "Type            0\n",
       "Source          0\n",
       "dtype: int64"
      ]
     },
     "execution_count": 14,
     "metadata": {},
     "output_type": "execute_result"
    }
   ],
   "source": [
    "airports.isnull().sum()"
   ]
  },
  {
   "cell_type": "code",
   "execution_count": 19,
   "metadata": {},
   "outputs": [
    {
     "name": "stdout",
     "output_type": "stream",
     "text": [
      "0\n"
     ]
    }
   ],
   "source": [
    "route_array = routes['Source Airport']\n",
    "lengths_4 = len([len(x) for x in route_array if len(x) == 4])\n",
    "print(lengths_4)"
   ]
  },
  {
   "cell_type": "markdown",
   "metadata": {},
   "source": [
    "No source airport codes with 4 digits"
   ]
  },
  {
   "cell_type": "code",
   "execution_count": 20,
   "metadata": {},
   "outputs": [
    {
     "name": "stdout",
     "output_type": "stream",
     "text": [
      "55739\n"
     ]
    }
   ],
   "source": [
    "dest_array = routes['Dest Airport ID']\n",
    "ap_lengths_4 = len([len(x) for x in dest_array if len(x) == 4])\n",
    "print(ap_lengths_4)"
   ]
  },
  {
   "cell_type": "code",
   "execution_count": 11,
   "metadata": {},
   "outputs": [
    {
     "name": "stdout",
     "output_type": "stream",
     "text": [
      "67663\n"
     ]
    }
   ],
   "source": [
    "dest_array = routes['Dest Airport']\n",
    "ap_lengths_3 = len([len(x) for x in dest_array if len(x) == 3])\n",
    "print(ap_lengths_3)"
   ]
  },
  {
   "cell_type": "markdown",
   "metadata": {},
   "source": [
    "Destination airport codes has a mix of 3 and 4 digit codes."
   ]
  },
  {
   "cell_type": "code",
   "execution_count": 23,
   "metadata": {},
   "outputs": [
    {
     "name": "stdout",
     "output_type": "stream",
     "text": [
      "<class 'pandas.core.frame.DataFrame'>\n",
      "RangeIndex: 67663 entries, 0 to 67662\n",
      "Data columns (total 9 columns):\n",
      "Airline            67663 non-null object\n",
      "Airline ID         67663 non-null object\n",
      "Source Airport     67663 non-null object\n",
      "Src Airport ID     67663 non-null object\n",
      "Dest Airport       67663 non-null object\n",
      "Dest Airport ID    67663 non-null object\n",
      "Codeshare          14597 non-null object\n",
      "Stops              67663 non-null int64\n",
      "Equipment          67645 non-null object\n",
      "dtypes: int64(1), object(8)\n",
      "memory usage: 4.6+ MB\n"
     ]
    }
   ],
   "source": [
    "routes.info()"
   ]
  },
  {
   "cell_type": "code",
   "execution_count": 24,
   "metadata": {},
   "outputs": [
    {
     "data": {
      "text/html": [
       "<div>\n",
       "<style scoped>\n",
       "    .dataframe tbody tr th:only-of-type {\n",
       "        vertical-align: middle;\n",
       "    }\n",
       "\n",
       "    .dataframe tbody tr th {\n",
       "        vertical-align: top;\n",
       "    }\n",
       "\n",
       "    .dataframe thead th {\n",
       "        text-align: right;\n",
       "    }\n",
       "</style>\n",
       "<table border=\"1\" class=\"dataframe\">\n",
       "  <thead>\n",
       "    <tr style=\"text-align: right;\">\n",
       "      <th></th>\n",
       "      <th>Stops</th>\n",
       "    </tr>\n",
       "  </thead>\n",
       "  <tbody>\n",
       "    <tr>\n",
       "      <th>count</th>\n",
       "      <td>67663.000000</td>\n",
       "    </tr>\n",
       "    <tr>\n",
       "      <th>mean</th>\n",
       "      <td>0.000163</td>\n",
       "    </tr>\n",
       "    <tr>\n",
       "      <th>std</th>\n",
       "      <td>0.012749</td>\n",
       "    </tr>\n",
       "    <tr>\n",
       "      <th>min</th>\n",
       "      <td>0.000000</td>\n",
       "    </tr>\n",
       "    <tr>\n",
       "      <th>25%</th>\n",
       "      <td>0.000000</td>\n",
       "    </tr>\n",
       "    <tr>\n",
       "      <th>50%</th>\n",
       "      <td>0.000000</td>\n",
       "    </tr>\n",
       "    <tr>\n",
       "      <th>75%</th>\n",
       "      <td>0.000000</td>\n",
       "    </tr>\n",
       "    <tr>\n",
       "      <th>max</th>\n",
       "      <td>1.000000</td>\n",
       "    </tr>\n",
       "  </tbody>\n",
       "</table>\n",
       "</div>"
      ],
      "text/plain": [
       "              Stops\n",
       "count  67663.000000\n",
       "mean       0.000163\n",
       "std        0.012749\n",
       "min        0.000000\n",
       "25%        0.000000\n",
       "50%        0.000000\n",
       "75%        0.000000\n",
       "max        1.000000"
      ]
     },
     "execution_count": 24,
     "metadata": {},
     "output_type": "execute_result"
    }
   ],
   "source": [
    "routes.describe()"
   ]
  },
  {
   "cell_type": "code",
   "execution_count": 25,
   "metadata": {},
   "outputs": [
    {
     "data": {
      "text/plain": [
       "(67663, 9)"
      ]
     },
     "execution_count": 25,
     "metadata": {},
     "output_type": "execute_result"
    }
   ],
   "source": [
    "routes.shape"
   ]
  },
  {
   "cell_type": "code",
   "execution_count": 38,
   "metadata": {},
   "outputs": [
    {
     "name": "stdout",
     "output_type": "stream",
     "text": [
      "      Airport ID                            Name      City        Country  \\\n",
      "3520        3720  Portland International Airport  Portland  United States   \n",
      "\n",
      "     IATA  ICAO        Lat      Log  Alt Timezone DST          TZ Database  \\\n",
      "3520  PDX  KPDX  45.588699 -122.598   31       -8   A  America/Los_Angeles   \n",
      "\n",
      "         Type       Source  \n",
      "3520  airport  OurAirports  \n"
     ]
    }
   ],
   "source": [
    "    # Only searching 3 digit airport codes\n",
    "    srcAirportDF = airports['IATA'] == 'PDX'\n",
    "    print(airports[srcAirportDF])"
   ]
  },
  {
   "cell_type": "code",
   "execution_count": 40,
   "metadata": {},
   "outputs": [
    {
     "name": "stdout",
     "output_type": "stream",
     "text": [
      "<class 'pandas.core.series.Series'>\n"
     ]
    }
   ],
   "source": [
    "    # Only searching 3 digit airport codes\n",
    "    srcAirportDF = airports['IATA'] == 'PDX'\n",
    "    print(type(srcAirportDF))"
   ]
  },
  {
   "cell_type": "code",
   "execution_count": 41,
   "metadata": {},
   "outputs": [
    {
     "name": "stdout",
     "output_type": "stream",
     "text": [
      "<class 'pandas.core.frame.DataFrame'>\n"
     ]
    }
   ],
   "source": [
    "print(type(airports))"
   ]
  },
  {
   "cell_type": "markdown",
   "metadata": {},
   "source": [
    "First sort by the IATA column, which returns an nd_array of bools (srcAirportDF). Feed this array back into the airport df to return the True row."
   ]
  },
  {
   "cell_type": "code",
   "execution_count": 49,
   "metadata": {},
   "outputs": [
    {
     "name": "stdout",
     "output_type": "stream",
     "text": [
      "      ICAO\n",
      "3520  KPDX\n"
     ]
    }
   ],
   "source": [
    "#Searching for 4 digit code\n",
    "srcAirportDF = airports['IATA'] == 'PDX'\n",
    "Pdx_Info = airports[srcAirportDF]\n",
    "ICAO_Code = Pdx_Info[['ICAO']]\n",
    "print(ICAO_Code)"
   ]
  },
  {
   "cell_type": "code",
   "execution_count": 17,
   "metadata": {},
   "outputs": [
    {
     "name": "stdout",
     "output_type": "stream",
     "text": [
      "37.61899948120117\n"
     ]
    }
   ],
   "source": [
    "src_lat = airports[airports.IATA == 'SFO'].iloc[0]['Lat']\n",
    "print(src_lat)"
   ]
  },
  {
   "cell_type": "code",
   "execution_count": 29,
   "metadata": {},
   "outputs": [
    {
     "name": "stdout",
     "output_type": "stream",
     "text": [
      "Empty DataFrame\n",
      "Columns: [Name, City, Country, IATA, ICAO, Lat, Log, Alt, Timezone, DST, TZ Database, Type, Source]\n",
      "Index: []\n"
     ]
    }
   ],
   "source": [
    "DEST=airports[airports['IATA'] == 'AOS']\n",
    "print(DEST)"
   ]
  },
  {
   "cell_type": "code",
   "execution_count": 23,
   "metadata": {},
   "outputs": [
    {
     "name": "stdout",
     "output_type": "stream",
     "text": [
      "        Airline ID Source Airport Src Airport ID Dest Airport Dest Airport ID  \\\n",
      "Airline                                                                         \n",
      "AA              24            PDX           3720          SFO            3469   \n",
      "AS             439            PDX           3720          SFO            3469   \n",
      "UA            5209            PDX           3720          SFO            3469   \n",
      "VX            5331            PDX           3720          SFO            3469   \n",
      "\n",
      "        Codeshare  Stops    Equipment  \n",
      "Airline                                \n",
      "AA              Y      0      DH4 737  \n",
      "AS            NaN      0      734 73G  \n",
      "UA            NaN      0  319 739 320  \n",
      "VX            NaN      0          320  \n"
     ]
    }
   ],
   "source": [
    "dest_airport = routes['Dest Airport'] == 'SFO'\n",
    "src_airport = routes['Source Airport'] == 'PDX'\n",
    "condition = dest_airport & src_airport\n",
    "newDF = routes[condition]\n",
    "print(newDF)"
   ]
  },
  {
   "cell_type": "code",
   "execution_count": 3,
   "metadata": {},
   "outputs": [
    {
     "name": "stdout",
     "output_type": "stream",
     "text": [
      "<class 'pandas.core.frame.DataFrame'>\n",
      "Index: 67663 entries, 2B to ZM\n",
      "Data columns (total 8 columns):\n",
      "Airline ID         67663 non-null object\n",
      "Source Airport     67663 non-null object\n",
      "Src Airport ID     67663 non-null object\n",
      "Dest Airport       67663 non-null object\n",
      "Dest Airport ID    67663 non-null object\n",
      "Codeshare          14597 non-null object\n",
      "Stops              67663 non-null int64\n",
      "Equipment          67645 non-null object\n",
      "dtypes: int64(1), object(7)\n",
      "memory usage: 4.6+ MB\n"
     ]
    }
   ],
   "source": [
    "routes.info()"
   ]
  },
  {
   "cell_type": "code",
   "execution_count": 6,
   "metadata": {},
   "outputs": [
    {
     "name": "stdout",
     "output_type": "stream",
     "text": [
      "        Airline ID Source Airport Src Airport ID Dest Airport Dest Airport ID  \\\n",
      "Airline                                                                         \n",
      "2B             410            AER           2965          KZN            2990   \n",
      "2B             410            ASF           2966          KZN            2990   \n",
      "2B             410            ASF           2966          MRV            2962   \n",
      "2B             410            CEK           2968          KZN            2990   \n",
      "2B             410            CEK           2968          OVB            4078   \n",
      "...            ...            ...            ...          ...             ...   \n",
      "ZL            4178            WYA           6334          ADL            3341   \n",
      "ZM           19016            DME           4029          FRU            2912   \n",
      "ZM           19016            FRU           2912          DME            4029   \n",
      "ZM           19016            FRU           2912          OSS            2913   \n",
      "ZM           19016            OSS           2913          FRU            2912   \n",
      "\n",
      "        Codeshare  Stops Equipment  \n",
      "Airline                             \n",
      "2B            NaN      0       CR2  \n",
      "2B            NaN      0       CR2  \n",
      "2B            NaN      0       CR2  \n",
      "2B            NaN      0       CR2  \n",
      "2B            NaN      0       CR2  \n",
      "...           ...    ...       ...  \n",
      "ZL            NaN      0       SF3  \n",
      "ZM            NaN      0       734  \n",
      "ZM            NaN      0       734  \n",
      "ZM            NaN      0       734  \n",
      "ZM            NaN      0       734  \n",
      "\n",
      "[67663 rows x 8 columns]\n"
     ]
    }
   ],
   "source": [
    "print(routes)"
   ]
  },
  {
   "cell_type": "code",
   "execution_count": 5,
   "metadata": {},
   "outputs": [
    {
     "name": "stdout",
     "output_type": "stream",
     "text": [
      "        Airline ID Source Airport Src Airport ID Dest Airport Dest Airport ID  \\\n",
      "Airline                                                                         \n",
      "2B             410            AER           2965          KZN            2990   \n",
      "2B             410            ASF           2966          KZN            2990   \n",
      "2B             410            ASF           2966          MRV            2962   \n",
      "2B             410            CEK           2968          KZN            2990   \n",
      "2B             410            CEK           2968          OVB            4078   \n",
      "...            ...            ...            ...          ...             ...   \n",
      "ZL            4178            WYA           6334          ADL            3341   \n",
      "ZM           19016            DME           4029          FRU            2912   \n",
      "ZM           19016            FRU           2912          DME            4029   \n",
      "ZM           19016            FRU           2912          OSS            2913   \n",
      "ZM           19016            OSS           2913          FRU            2912   \n",
      "\n",
      "        Codeshare  Stops Equipment  \n",
      "Airline                             \n",
      "2B            NaN      0       CR2  \n",
      "2B            NaN      0       CR2  \n",
      "2B            NaN      0       CR2  \n",
      "2B            NaN      0       CR2  \n",
      "2B            NaN      0       CR2  \n",
      "...           ...    ...       ...  \n",
      "ZL            NaN      0       SF3  \n",
      "ZM            NaN      0       734  \n",
      "ZM            NaN      0       734  \n",
      "ZM            NaN      0       734  \n",
      "ZM            NaN      0       734  \n",
      "\n",
      "[67663 rows x 8 columns]\n"
     ]
    }
   ],
   "source": [
    "routes.set_index('Airline ID')\n",
    "print(routes)"
   ]
  },
  {
   "cell_type": "code",
   "execution_count": 12,
   "metadata": {},
   "outputs": [
    {
     "name": "stdout",
     "output_type": "stream",
     "text": [
      "Airline ID\n",
      "Source Airport\n",
      "Src Airport ID\n",
      "Dest Airport\n",
      "Dest Airport ID\n",
      "Codeshare\n",
      "Stops\n",
      "Equipment\n"
     ]
    }
   ],
   "source": [
    "for col in routes.columns :\n",
    "    print(col)"
   ]
  },
  {
   "cell_type": "code",
   "execution_count": 17,
   "metadata": {},
   "outputs": [
    {
     "data": {
      "text/plain": [
       "Airline\n",
       "2B      410\n",
       "2B      410\n",
       "2B      410\n",
       "2B      410\n",
       "2B      410\n",
       "      ...  \n",
       "ZL     4178\n",
       "ZM    19016\n",
       "ZM    19016\n",
       "ZM    19016\n",
       "ZM    19016\n",
       "Name: Airline ID, Length: 67663, dtype: object"
      ]
     },
     "execution_count": 17,
     "metadata": {},
     "output_type": "execute_result"
    }
   ],
   "source": [
    "routes['Airline ID'].astype(str)"
   ]
  },
  {
   "cell_type": "code",
   "execution_count": 15,
   "metadata": {},
   "outputs": [
    {
     "data": {
      "text/plain": [
       "Airline ID         object\n",
       "Source Airport     object\n",
       "Src Airport ID     object\n",
       "Dest Airport       object\n",
       "Dest Airport ID    object\n",
       "Codeshare          object\n",
       "Stops               int64\n",
       "Equipment          object\n",
       "dtype: object"
      ]
     },
     "execution_count": 15,
     "metadata": {},
     "output_type": "execute_result"
    }
   ],
   "source": [
    "routes.dtypes"
   ]
  },
  {
   "cell_type": "code",
   "execution_count": 19,
   "metadata": {},
   "outputs": [
    {
     "data": {
      "text/html": [
       "<div>\n",
       "<style scoped>\n",
       "    .dataframe tbody tr th:only-of-type {\n",
       "        vertical-align: middle;\n",
       "    }\n",
       "\n",
       "    .dataframe tbody tr th {\n",
       "        vertical-align: top;\n",
       "    }\n",
       "\n",
       "    .dataframe thead th {\n",
       "        text-align: right;\n",
       "    }\n",
       "</style>\n",
       "<table border=\"1\" class=\"dataframe\">\n",
       "  <thead>\n",
       "    <tr style=\"text-align: right;\">\n",
       "      <th></th>\n",
       "      <th>Airline ID</th>\n",
       "      <th>Source Airport</th>\n",
       "      <th>Src Airport ID</th>\n",
       "      <th>Dest Airport</th>\n",
       "      <th>Dest Airport ID</th>\n",
       "      <th>Codeshare</th>\n",
       "      <th>Stops</th>\n",
       "      <th>Equipment</th>\n",
       "    </tr>\n",
       "    <tr>\n",
       "      <th>Airline</th>\n",
       "      <th></th>\n",
       "      <th></th>\n",
       "      <th></th>\n",
       "      <th></th>\n",
       "      <th></th>\n",
       "      <th></th>\n",
       "      <th></th>\n",
       "      <th></th>\n",
       "    </tr>\n",
       "  </thead>\n",
       "  <tbody>\n",
       "    <tr>\n",
       "      <th>AA</th>\n",
       "      <td>24</td>\n",
       "      <td>ABE</td>\n",
       "      <td>4355</td>\n",
       "      <td>CLT</td>\n",
       "      <td>3876</td>\n",
       "      <td>Y</td>\n",
       "      <td>0</td>\n",
       "      <td>CR9 CR7 CRJ</td>\n",
       "    </tr>\n",
       "    <tr>\n",
       "      <th>AA</th>\n",
       "      <td>24</td>\n",
       "      <td>ABE</td>\n",
       "      <td>4355</td>\n",
       "      <td>PHL</td>\n",
       "      <td>3752</td>\n",
       "      <td>NaN</td>\n",
       "      <td>0</td>\n",
       "      <td>DH3</td>\n",
       "    </tr>\n",
       "    <tr>\n",
       "      <th>AA</th>\n",
       "      <td>24</td>\n",
       "      <td>ABI</td>\n",
       "      <td>3718</td>\n",
       "      <td>DFW</td>\n",
       "      <td>3670</td>\n",
       "      <td>Y</td>\n",
       "      <td>0</td>\n",
       "      <td>ERD ER4 CRJ</td>\n",
       "    </tr>\n",
       "    <tr>\n",
       "      <th>AA</th>\n",
       "      <td>24</td>\n",
       "      <td>ABQ</td>\n",
       "      <td>4019</td>\n",
       "      <td>DFW</td>\n",
       "      <td>3670</td>\n",
       "      <td>NaN</td>\n",
       "      <td>0</td>\n",
       "      <td>M83 M80</td>\n",
       "    </tr>\n",
       "    <tr>\n",
       "      <th>AA</th>\n",
       "      <td>24</td>\n",
       "      <td>ABQ</td>\n",
       "      <td>4019</td>\n",
       "      <td>LAX</td>\n",
       "      <td>3484</td>\n",
       "      <td>Y</td>\n",
       "      <td>0</td>\n",
       "      <td>CR7 CRJ</td>\n",
       "    </tr>\n",
       "    <tr>\n",
       "      <th>...</th>\n",
       "      <td>...</td>\n",
       "      <td>...</td>\n",
       "      <td>...</td>\n",
       "      <td>...</td>\n",
       "      <td>...</td>\n",
       "      <td>...</td>\n",
       "      <td>...</td>\n",
       "      <td>...</td>\n",
       "    </tr>\n",
       "    <tr>\n",
       "      <th>AA</th>\n",
       "      <td>24</td>\n",
       "      <td>ZCL</td>\n",
       "      <td>1855</td>\n",
       "      <td>DFW</td>\n",
       "      <td>3670</td>\n",
       "      <td>Y</td>\n",
       "      <td>0</td>\n",
       "      <td>ERD</td>\n",
       "    </tr>\n",
       "    <tr>\n",
       "      <th>AA</th>\n",
       "      <td>24</td>\n",
       "      <td>ZIH</td>\n",
       "      <td>1856</td>\n",
       "      <td>PHX</td>\n",
       "      <td>3462</td>\n",
       "      <td>NaN</td>\n",
       "      <td>0</td>\n",
       "      <td>320</td>\n",
       "    </tr>\n",
       "    <tr>\n",
       "      <th>AA</th>\n",
       "      <td>24</td>\n",
       "      <td>ZRH</td>\n",
       "      <td>1678</td>\n",
       "      <td>JFK</td>\n",
       "      <td>3797</td>\n",
       "      <td>NaN</td>\n",
       "      <td>0</td>\n",
       "      <td>763</td>\n",
       "    </tr>\n",
       "    <tr>\n",
       "      <th>AA</th>\n",
       "      <td>24</td>\n",
       "      <td>ZRH</td>\n",
       "      <td>1678</td>\n",
       "      <td>LHR</td>\n",
       "      <td>507</td>\n",
       "      <td>Y</td>\n",
       "      <td>0</td>\n",
       "      <td>320 319</td>\n",
       "    </tr>\n",
       "    <tr>\n",
       "      <th>AA</th>\n",
       "      <td>24</td>\n",
       "      <td>ZRH</td>\n",
       "      <td>1678</td>\n",
       "      <td>PHL</td>\n",
       "      <td>3752</td>\n",
       "      <td>NaN</td>\n",
       "      <td>0</td>\n",
       "      <td>767</td>\n",
       "    </tr>\n",
       "  </tbody>\n",
       "</table>\n",
       "<p>2354 rows × 8 columns</p>\n",
       "</div>"
      ],
      "text/plain": [
       "        Airline ID Source Airport Src Airport ID Dest Airport Dest Airport ID  \\\n",
       "Airline                                                                         \n",
       "AA              24            ABE           4355          CLT            3876   \n",
       "AA              24            ABE           4355          PHL            3752   \n",
       "AA              24            ABI           3718          DFW            3670   \n",
       "AA              24            ABQ           4019          DFW            3670   \n",
       "AA              24            ABQ           4019          LAX            3484   \n",
       "...            ...            ...            ...          ...             ...   \n",
       "AA              24            ZCL           1855          DFW            3670   \n",
       "AA              24            ZIH           1856          PHX            3462   \n",
       "AA              24            ZRH           1678          JFK            3797   \n",
       "AA              24            ZRH           1678          LHR             507   \n",
       "AA              24            ZRH           1678          PHL            3752   \n",
       "\n",
       "        Codeshare  Stops    Equipment  \n",
       "Airline                                \n",
       "AA              Y      0  CR9 CR7 CRJ  \n",
       "AA            NaN      0          DH3  \n",
       "AA              Y      0  ERD ER4 CRJ  \n",
       "AA            NaN      0      M83 M80  \n",
       "AA              Y      0      CR7 CRJ  \n",
       "...           ...    ...          ...  \n",
       "AA              Y      0          ERD  \n",
       "AA            NaN      0          320  \n",
       "AA            NaN      0          763  \n",
       "AA              Y      0      320 319  \n",
       "AA            NaN      0          767  \n",
       "\n",
       "[2354 rows x 8 columns]"
      ]
     },
     "execution_count": 19,
     "metadata": {},
     "output_type": "execute_result"
    }
   ],
   "source": [
    "routes[routes['Airline ID'].astype(str) == '24']"
   ]
  },
  {
   "cell_type": "code",
   "execution_count": 20,
   "metadata": {},
   "outputs": [
    {
     "ename": "KeyError",
     "evalue": "'AA'",
     "output_type": "error",
     "traceback": [
      "\u001b[0;31m---------------------------------------------------------------------------\u001b[0m",
      "\u001b[0;31mKeyError\u001b[0m                                  Traceback (most recent call last)",
      "\u001b[0;32m/Library/Frameworks/Python.framework/Versions/3.8/lib/python3.8/site-packages/pandas/core/indexes/base.py\u001b[0m in \u001b[0;36mget_loc\u001b[0;34m(self, key, method, tolerance)\u001b[0m\n\u001b[1;32m   2896\u001b[0m             \u001b[0;32mtry\u001b[0m\u001b[0;34m:\u001b[0m\u001b[0;34m\u001b[0m\u001b[0;34m\u001b[0m\u001b[0m\n\u001b[0;32m-> 2897\u001b[0;31m                 \u001b[0;32mreturn\u001b[0m \u001b[0mself\u001b[0m\u001b[0;34m.\u001b[0m\u001b[0m_engine\u001b[0m\u001b[0;34m.\u001b[0m\u001b[0mget_loc\u001b[0m\u001b[0;34m(\u001b[0m\u001b[0mkey\u001b[0m\u001b[0;34m)\u001b[0m\u001b[0;34m\u001b[0m\u001b[0;34m\u001b[0m\u001b[0m\n\u001b[0m\u001b[1;32m   2898\u001b[0m             \u001b[0;32mexcept\u001b[0m \u001b[0mKeyError\u001b[0m\u001b[0;34m:\u001b[0m\u001b[0;34m\u001b[0m\u001b[0;34m\u001b[0m\u001b[0m\n",
      "\u001b[0;32mpandas/_libs/index.pyx\u001b[0m in \u001b[0;36mpandas._libs.index.IndexEngine.get_loc\u001b[0;34m()\u001b[0m\n",
      "\u001b[0;32mpandas/_libs/index.pyx\u001b[0m in \u001b[0;36mpandas._libs.index.IndexEngine.get_loc\u001b[0;34m()\u001b[0m\n",
      "\u001b[0;32mpandas/_libs/hashtable_class_helper.pxi\u001b[0m in \u001b[0;36mpandas._libs.hashtable.PyObjectHashTable.get_item\u001b[0;34m()\u001b[0m\n",
      "\u001b[0;32mpandas/_libs/hashtable_class_helper.pxi\u001b[0m in \u001b[0;36mpandas._libs.hashtable.PyObjectHashTable.get_item\u001b[0;34m()\u001b[0m\n",
      "\u001b[0;31mKeyError\u001b[0m: 'AA'",
      "\nDuring handling of the above exception, another exception occurred:\n",
      "\u001b[0;31mKeyError\u001b[0m                                  Traceback (most recent call last)",
      "\u001b[0;32m<ipython-input-20-1ba7f85a99b1>\u001b[0m in \u001b[0;36m<module>\u001b[0;34m\u001b[0m\n\u001b[0;32m----> 1\u001b[0;31m \u001b[0mroutes\u001b[0m\u001b[0;34m[\u001b[0m\u001b[0;34m'AA'\u001b[0m\u001b[0;34m]\u001b[0m\u001b[0;34m\u001b[0m\u001b[0;34m\u001b[0m\u001b[0m\n\u001b[0m",
      "\u001b[0;32m/Library/Frameworks/Python.framework/Versions/3.8/lib/python3.8/site-packages/pandas/core/frame.py\u001b[0m in \u001b[0;36m__getitem__\u001b[0;34m(self, key)\u001b[0m\n\u001b[1;32m   2993\u001b[0m             \u001b[0;32mif\u001b[0m \u001b[0mself\u001b[0m\u001b[0;34m.\u001b[0m\u001b[0mcolumns\u001b[0m\u001b[0;34m.\u001b[0m\u001b[0mnlevels\u001b[0m \u001b[0;34m>\u001b[0m \u001b[0;36m1\u001b[0m\u001b[0;34m:\u001b[0m\u001b[0;34m\u001b[0m\u001b[0;34m\u001b[0m\u001b[0m\n\u001b[1;32m   2994\u001b[0m                 \u001b[0;32mreturn\u001b[0m \u001b[0mself\u001b[0m\u001b[0;34m.\u001b[0m\u001b[0m_getitem_multilevel\u001b[0m\u001b[0;34m(\u001b[0m\u001b[0mkey\u001b[0m\u001b[0;34m)\u001b[0m\u001b[0;34m\u001b[0m\u001b[0;34m\u001b[0m\u001b[0m\n\u001b[0;32m-> 2995\u001b[0;31m             \u001b[0mindexer\u001b[0m \u001b[0;34m=\u001b[0m \u001b[0mself\u001b[0m\u001b[0;34m.\u001b[0m\u001b[0mcolumns\u001b[0m\u001b[0;34m.\u001b[0m\u001b[0mget_loc\u001b[0m\u001b[0;34m(\u001b[0m\u001b[0mkey\u001b[0m\u001b[0;34m)\u001b[0m\u001b[0;34m\u001b[0m\u001b[0;34m\u001b[0m\u001b[0m\n\u001b[0m\u001b[1;32m   2996\u001b[0m             \u001b[0;32mif\u001b[0m \u001b[0mis_integer\u001b[0m\u001b[0;34m(\u001b[0m\u001b[0mindexer\u001b[0m\u001b[0;34m)\u001b[0m\u001b[0;34m:\u001b[0m\u001b[0;34m\u001b[0m\u001b[0;34m\u001b[0m\u001b[0m\n\u001b[1;32m   2997\u001b[0m                 \u001b[0mindexer\u001b[0m \u001b[0;34m=\u001b[0m \u001b[0;34m[\u001b[0m\u001b[0mindexer\u001b[0m\u001b[0;34m]\u001b[0m\u001b[0;34m\u001b[0m\u001b[0;34m\u001b[0m\u001b[0m\n",
      "\u001b[0;32m/Library/Frameworks/Python.framework/Versions/3.8/lib/python3.8/site-packages/pandas/core/indexes/base.py\u001b[0m in \u001b[0;36mget_loc\u001b[0;34m(self, key, method, tolerance)\u001b[0m\n\u001b[1;32m   2897\u001b[0m                 \u001b[0;32mreturn\u001b[0m \u001b[0mself\u001b[0m\u001b[0;34m.\u001b[0m\u001b[0m_engine\u001b[0m\u001b[0;34m.\u001b[0m\u001b[0mget_loc\u001b[0m\u001b[0;34m(\u001b[0m\u001b[0mkey\u001b[0m\u001b[0;34m)\u001b[0m\u001b[0;34m\u001b[0m\u001b[0;34m\u001b[0m\u001b[0m\n\u001b[1;32m   2898\u001b[0m             \u001b[0;32mexcept\u001b[0m \u001b[0mKeyError\u001b[0m\u001b[0;34m:\u001b[0m\u001b[0;34m\u001b[0m\u001b[0;34m\u001b[0m\u001b[0m\n\u001b[0;32m-> 2899\u001b[0;31m                 \u001b[0;32mreturn\u001b[0m \u001b[0mself\u001b[0m\u001b[0;34m.\u001b[0m\u001b[0m_engine\u001b[0m\u001b[0;34m.\u001b[0m\u001b[0mget_loc\u001b[0m\u001b[0;34m(\u001b[0m\u001b[0mself\u001b[0m\u001b[0;34m.\u001b[0m\u001b[0m_maybe_cast_indexer\u001b[0m\u001b[0;34m(\u001b[0m\u001b[0mkey\u001b[0m\u001b[0;34m)\u001b[0m\u001b[0;34m)\u001b[0m\u001b[0;34m\u001b[0m\u001b[0;34m\u001b[0m\u001b[0m\n\u001b[0m\u001b[1;32m   2900\u001b[0m         \u001b[0mindexer\u001b[0m \u001b[0;34m=\u001b[0m \u001b[0mself\u001b[0m\u001b[0;34m.\u001b[0m\u001b[0mget_indexer\u001b[0m\u001b[0;34m(\u001b[0m\u001b[0;34m[\u001b[0m\u001b[0mkey\u001b[0m\u001b[0;34m]\u001b[0m\u001b[0;34m,\u001b[0m \u001b[0mmethod\u001b[0m\u001b[0;34m=\u001b[0m\u001b[0mmethod\u001b[0m\u001b[0;34m,\u001b[0m \u001b[0mtolerance\u001b[0m\u001b[0;34m=\u001b[0m\u001b[0mtolerance\u001b[0m\u001b[0;34m)\u001b[0m\u001b[0;34m\u001b[0m\u001b[0;34m\u001b[0m\u001b[0m\n\u001b[1;32m   2901\u001b[0m         \u001b[0;32mif\u001b[0m \u001b[0mindexer\u001b[0m\u001b[0;34m.\u001b[0m\u001b[0mndim\u001b[0m \u001b[0;34m>\u001b[0m \u001b[0;36m1\u001b[0m \u001b[0;32mor\u001b[0m \u001b[0mindexer\u001b[0m\u001b[0;34m.\u001b[0m\u001b[0msize\u001b[0m \u001b[0;34m>\u001b[0m \u001b[0;36m1\u001b[0m\u001b[0;34m:\u001b[0m\u001b[0;34m\u001b[0m\u001b[0;34m\u001b[0m\u001b[0m\n",
      "\u001b[0;32mpandas/_libs/index.pyx\u001b[0m in \u001b[0;36mpandas._libs.index.IndexEngine.get_loc\u001b[0;34m()\u001b[0m\n",
      "\u001b[0;32mpandas/_libs/index.pyx\u001b[0m in \u001b[0;36mpandas._libs.index.IndexEngine.get_loc\u001b[0;34m()\u001b[0m\n",
      "\u001b[0;32mpandas/_libs/hashtable_class_helper.pxi\u001b[0m in \u001b[0;36mpandas._libs.hashtable.PyObjectHashTable.get_item\u001b[0;34m()\u001b[0m\n",
      "\u001b[0;32mpandas/_libs/hashtable_class_helper.pxi\u001b[0m in \u001b[0;36mpandas._libs.hashtable.PyObjectHashTable.get_item\u001b[0;34m()\u001b[0m\n",
      "\u001b[0;31mKeyError\u001b[0m: 'AA'"
     ]
    }
   ],
   "source": [
    "routes['AA']"
   ]
  },
  {
   "cell_type": "code",
   "execution_count": 21,
   "metadata": {},
   "outputs": [
    {
     "data": {
      "text/plain": [
       "Index(['Airline ID', 'Source Airport', 'Src Airport ID', 'Dest Airport',\n",
       "       'Dest Airport ID', 'Codeshare', 'Stops', 'Equipment'],\n",
       "      dtype='object')"
      ]
     },
     "execution_count": 21,
     "metadata": {},
     "output_type": "execute_result"
    }
   ],
   "source": [
    "routes.keys()"
   ]
  },
  {
   "cell_type": "code",
   "execution_count": 23,
   "metadata": {},
   "outputs": [
    {
     "data": {
      "text/plain": [
       "Index(['2B', '2B', '2B', '2B', '2B', '2B', '2B', '2B', '2B', '2B',\n",
       "       ...\n",
       "       'ZL', 'ZL', 'ZL', 'ZL', 'ZL', 'ZL', 'ZM', 'ZM', 'ZM', 'ZM'],\n",
       "      dtype='object', name='Airline', length=67663)"
      ]
     },
     "execution_count": 23,
     "metadata": {},
     "output_type": "execute_result"
    }
   ],
   "source": [
    "routes.index"
   ]
  },
  {
   "cell_type": "code",
   "execution_count": 35,
   "metadata": {},
   "outputs": [
    {
     "data": {
      "text/html": [
       "<div>\n",
       "<style scoped>\n",
       "    .dataframe tbody tr th:only-of-type {\n",
       "        vertical-align: middle;\n",
       "    }\n",
       "\n",
       "    .dataframe tbody tr th {\n",
       "        vertical-align: top;\n",
       "    }\n",
       "\n",
       "    .dataframe thead th {\n",
       "        text-align: right;\n",
       "    }\n",
       "</style>\n",
       "<table border=\"1\" class=\"dataframe\">\n",
       "  <thead>\n",
       "    <tr style=\"text-align: right;\">\n",
       "      <th></th>\n",
       "      <th>Airline ID</th>\n",
       "      <th>Source Airport</th>\n",
       "      <th>Src Airport ID</th>\n",
       "      <th>Dest Airport</th>\n",
       "      <th>Dest Airport ID</th>\n",
       "      <th>Codeshare</th>\n",
       "      <th>Stops</th>\n",
       "      <th>Equipment</th>\n",
       "    </tr>\n",
       "    <tr>\n",
       "      <th>Airline</th>\n",
       "      <th></th>\n",
       "      <th></th>\n",
       "      <th></th>\n",
       "      <th></th>\n",
       "      <th></th>\n",
       "      <th></th>\n",
       "      <th></th>\n",
       "      <th></th>\n",
       "    </tr>\n",
       "  </thead>\n",
       "  <tbody>\n",
       "    <tr>\n",
       "      <th>AA</th>\n",
       "      <td>24</td>\n",
       "      <td>ABE</td>\n",
       "      <td>4355</td>\n",
       "      <td>CLT</td>\n",
       "      <td>3876</td>\n",
       "      <td>Y</td>\n",
       "      <td>0</td>\n",
       "      <td>CR9 CR7 CRJ</td>\n",
       "    </tr>\n",
       "    <tr>\n",
       "      <th>AA</th>\n",
       "      <td>24</td>\n",
       "      <td>ABE</td>\n",
       "      <td>4355</td>\n",
       "      <td>PHL</td>\n",
       "      <td>3752</td>\n",
       "      <td>NaN</td>\n",
       "      <td>0</td>\n",
       "      <td>DH3</td>\n",
       "    </tr>\n",
       "    <tr>\n",
       "      <th>AA</th>\n",
       "      <td>24</td>\n",
       "      <td>ABI</td>\n",
       "      <td>3718</td>\n",
       "      <td>DFW</td>\n",
       "      <td>3670</td>\n",
       "      <td>Y</td>\n",
       "      <td>0</td>\n",
       "      <td>ERD ER4 CRJ</td>\n",
       "    </tr>\n",
       "    <tr>\n",
       "      <th>AA</th>\n",
       "      <td>24</td>\n",
       "      <td>ABQ</td>\n",
       "      <td>4019</td>\n",
       "      <td>DFW</td>\n",
       "      <td>3670</td>\n",
       "      <td>NaN</td>\n",
       "      <td>0</td>\n",
       "      <td>M83 M80</td>\n",
       "    </tr>\n",
       "    <tr>\n",
       "      <th>AA</th>\n",
       "      <td>24</td>\n",
       "      <td>ABQ</td>\n",
       "      <td>4019</td>\n",
       "      <td>LAX</td>\n",
       "      <td>3484</td>\n",
       "      <td>Y</td>\n",
       "      <td>0</td>\n",
       "      <td>CR7 CRJ</td>\n",
       "    </tr>\n",
       "    <tr>\n",
       "      <th>...</th>\n",
       "      <td>...</td>\n",
       "      <td>...</td>\n",
       "      <td>...</td>\n",
       "      <td>...</td>\n",
       "      <td>...</td>\n",
       "      <td>...</td>\n",
       "      <td>...</td>\n",
       "      <td>...</td>\n",
       "    </tr>\n",
       "    <tr>\n",
       "      <th>AS</th>\n",
       "      <td>439</td>\n",
       "      <td>YVR</td>\n",
       "      <td>156</td>\n",
       "      <td>SEA</td>\n",
       "      <td>3577</td>\n",
       "      <td>Y</td>\n",
       "      <td>0</td>\n",
       "      <td>DH4</td>\n",
       "    </tr>\n",
       "    <tr>\n",
       "      <th>AS</th>\n",
       "      <td>439</td>\n",
       "      <td>YYC</td>\n",
       "      <td>178</td>\n",
       "      <td>SEA</td>\n",
       "      <td>3577</td>\n",
       "      <td>Y</td>\n",
       "      <td>0</td>\n",
       "      <td>DH4</td>\n",
       "    </tr>\n",
       "    <tr>\n",
       "      <th>AS</th>\n",
       "      <td>439</td>\n",
       "      <td>YYJ</td>\n",
       "      <td>184</td>\n",
       "      <td>SEA</td>\n",
       "      <td>3577</td>\n",
       "      <td>Y</td>\n",
       "      <td>0</td>\n",
       "      <td>DH4</td>\n",
       "    </tr>\n",
       "    <tr>\n",
       "      <th>AS</th>\n",
       "      <td>439</td>\n",
       "      <td>ZIH</td>\n",
       "      <td>1856</td>\n",
       "      <td>LAX</td>\n",
       "      <td>3484</td>\n",
       "      <td>NaN</td>\n",
       "      <td>0</td>\n",
       "      <td>739</td>\n",
       "    </tr>\n",
       "    <tr>\n",
       "      <th>AS</th>\n",
       "      <td>439</td>\n",
       "      <td>ZLO</td>\n",
       "      <td>1858</td>\n",
       "      <td>LAX</td>\n",
       "      <td>3484</td>\n",
       "      <td>NaN</td>\n",
       "      <td>0</td>\n",
       "      <td>73H</td>\n",
       "    </tr>\n",
       "  </tbody>\n",
       "</table>\n",
       "<p>2884 rows × 8 columns</p>\n",
       "</div>"
      ],
      "text/plain": [
       "        Airline ID Source Airport Src Airport ID Dest Airport Dest Airport ID  \\\n",
       "Airline                                                                         \n",
       "AA              24            ABE           4355          CLT            3876   \n",
       "AA              24            ABE           4355          PHL            3752   \n",
       "AA              24            ABI           3718          DFW            3670   \n",
       "AA              24            ABQ           4019          DFW            3670   \n",
       "AA              24            ABQ           4019          LAX            3484   \n",
       "...            ...            ...            ...          ...             ...   \n",
       "AS             439            YVR            156          SEA            3577   \n",
       "AS             439            YYC            178          SEA            3577   \n",
       "AS             439            YYJ            184          SEA            3577   \n",
       "AS             439            ZIH           1856          LAX            3484   \n",
       "AS             439            ZLO           1858          LAX            3484   \n",
       "\n",
       "        Codeshare  Stops    Equipment  \n",
       "Airline                                \n",
       "AA              Y      0  CR9 CR7 CRJ  \n",
       "AA            NaN      0          DH3  \n",
       "AA              Y      0  ERD ER4 CRJ  \n",
       "AA            NaN      0      M83 M80  \n",
       "AA              Y      0      CR7 CRJ  \n",
       "...           ...    ...          ...  \n",
       "AS              Y      0          DH4  \n",
       "AS              Y      0          DH4  \n",
       "AS              Y      0          DH4  \n",
       "AS            NaN      0          739  \n",
       "AS            NaN      0          73H  \n",
       "\n",
       "[2884 rows x 8 columns]"
      ]
     },
     "execution_count": 35,
     "metadata": {},
     "output_type": "execute_result"
    }
   ],
   "source": [
    "routes[(routes.index == 'AA') | (routes.index == 'AS')]"
   ]
  },
  {
   "cell_type": "code",
   "execution_count": null,
   "metadata": {},
   "outputs": [],
   "source": []
  }
 ],
 "metadata": {
  "kernelspec": {
   "display_name": "Python 3",
   "language": "python",
   "name": "python3"
  },
  "language_info": {
   "codemirror_mode": {
    "name": "ipython",
    "version": 3
   },
   "file_extension": ".py",
   "mimetype": "text/x-python",
   "name": "python",
   "nbconvert_exporter": "python",
   "pygments_lexer": "ipython3",
   "version": "3.8.1"
  }
 },
 "nbformat": 4,
 "nbformat_minor": 4
}
